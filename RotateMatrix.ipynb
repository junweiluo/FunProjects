{
  "nbformat": 4,
  "nbformat_minor": 0,
  "metadata": {
    "colab": {
      "name": "Untitled0.ipynb",
      "provenance": [],
      "include_colab_link": true
    },
    "kernelspec": {
      "name": "python3",
      "display_name": "Python 3"
    }
  },
  "cells": [
    {
      "cell_type": "markdown",
      "metadata": {
        "id": "view-in-github",
        "colab_type": "text"
      },
      "source": [
        "<a href=\"https://colab.research.google.com/github/junweiluo/FunProjects/blob/master/RotateMatrix.ipynb\" target=\"_parent\"><img src=\"https://colab.research.google.com/assets/colab-badge.svg\" alt=\"Open In Colab\"/></a>"
      ]
    },
    {
      "cell_type": "code",
      "metadata": {
        "id": "WTMhbAUPtaD9",
        "colab_type": "code",
        "colab": {
          "base_uri": "https://localhost:8080/",
          "height": 204
        },
        "outputId": "dfe02fc2-6957-40bb-f246-8609e2eb8064"
      },
      "source": [
        "# Using pandas Transpose function to solve the problem. \n",
        "import pandas as pd\n",
        "\n",
        "# Transform list of list as DataFrame\n",
        "df = pd.DataFrame.from_records([['.','.','.','.','.','.'],\n",
        "                ['.','0','0','.','.','.'],\n",
        "                ['0','*','0','0','.','.'],\n",
        "                ['0','0','0','0','0','.'],\n",
        "                ['.','0','0','0','0','0'],\n",
        "                ['0','0','0','0','0','.'],\n",
        "                ['0','0','0','0','.','.'],\n",
        "                ['.','0','0','.','.','.'],\n",
        "                ['.','.','.','.','.','.']])\n",
        "print(df)\n",
        "print(\"Above is the original shape before rotation.\")"
      ],
      "execution_count": 9,
      "outputs": [
        {
          "output_type": "stream",
          "text": [
            "   0  1  2  3  4  5\n",
            "0  .  .  .  .  .  .\n",
            "1  .  0  0  .  .  .\n",
            "2  0  *  0  0  .  .\n",
            "3  0  0  0  0  0  .\n",
            "4  .  0  0  0  0  0\n",
            "5  0  0  0  0  0  .\n",
            "6  0  0  0  0  .  .\n",
            "7  .  0  0  .  .  .\n",
            "8  .  .  .  .  .  .\n",
            "Above is the original shape before rotation.\n"
          ],
          "name": "stdout"
        }
      ]
    },
    {
      "cell_type": "code",
      "metadata": {
        "colab_type": "code",
        "cellView": "both",
        "outputId": "5f9b0585-0180-4916-9145-cb77e61e7bf3",
        "id": "jqgZwnTcfq52",
        "colab": {
          "base_uri": "https://localhost:8080/",
          "height": 34
        }
      },
      "source": [
        "# check if input is n times 90 degrees\n",
        "\n",
        "#@title Input a degree\n",
        "InputRotationDegree = -90 #@param {type:\"integer\"}\n",
        "\n",
        "while True:\n",
        "    try:\n",
        "        if InputRotationDegree%90 == 0 and InputRotationDegree != 0:\n",
        "            print(f\"{InputRotationDegree} is a good number!  Please move to next step to rotate.\")\n",
        "            break\n",
        "        print(\"Oops!  That was not valid degree.  Try again...\")\n",
        "        break\n",
        "    except ValueError:\n",
        "        print(\"Oops!  That was not valid number.  Try again...\")\n",
        "        break"
      ],
      "execution_count": 12,
      "outputs": [
        {
          "output_type": "stream",
          "text": [
            "-90 is a good number!  Please move to next step to rotate.\n"
          ],
          "name": "stdout"
        }
      ]
    },
    {
      "cell_type": "code",
      "metadata": {
        "id": "DyMo9Arvvlw_",
        "colab_type": "code",
        "outputId": "afd34b67-d7eb-407c-a690-47903fc7f990",
        "colab": {
          "base_uri": "https://localhost:8080/",
          "height": 136
        }
      },
      "source": [
        "# assign the original DataFrame as working DataFrame\n",
        "Working_df = df\n",
        "\n",
        "if YourInput >=0:\n",
        "    for n in range(abs(int(YourInput/90))):\n",
        "        # Transpose DataFrame and flip\n",
        "        Working_df = (Working_df.T).iloc[:,::-1]\n",
        "    print(Working_df)\n",
        "\n",
        "else:\n",
        "    for n in range(abs(int(YourInput/90))):\n",
        "        # Transpose DataFrame and flip\n",
        "        Working_df = (Working_df.T).iloc[::-1,:]\n",
        "    print(Working_df)"
      ],
      "execution_count": 11,
      "outputs": [
        {
          "output_type": "stream",
          "text": [
            "   0  1  2  3  4  5  6  7  8\n",
            "5  .  .  .  .  0  .  .  .  .\n",
            "4  .  .  .  0  0  0  .  .  .\n",
            "3  .  .  0  0  0  0  0  .  .\n",
            "2  .  0  0  0  0  0  0  0  .\n",
            "1  .  0  *  0  0  0  0  0  .\n",
            "0  .  .  0  0  .  0  0  .  .\n"
          ],
          "name": "stdout"
        }
      ]
    }
  ]
}