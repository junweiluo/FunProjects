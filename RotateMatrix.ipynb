{
  "nbformat": 4,
  "nbformat_minor": 0,
  "metadata": {
    "colab": {
      "name": "Untitled0.ipynb",
      "provenance": [],
      "include_colab_link": true
    },
    "kernelspec": {
      "name": "python3",
      "display_name": "Python 3"
    }
  },
  "cells": [
    {
      "cell_type": "markdown",
      "metadata": {
        "id": "view-in-github",
        "colab_type": "text"
      },
      "source": [
        "<a href=\"https://colab.research.google.com/github/junweiluo/RotateMatrix/blob/master/RotateMatrix.ipynb\" target=\"_parent\"><img src=\"https://colab.research.google.com/assets/colab-badge.svg\" alt=\"Open In Colab\"/></a>"
      ]
    },
    {
      "cell_type": "code",
      "metadata": {
        "id": "WTMhbAUPtaD9",
        "colab_type": "code",
        "colab": {}
      },
      "source": [
        "# Using pandas Transpose function to solve the problem. \n",
        "import pandas as pd\n",
        "\n",
        "# Transform list of list as DataFrame\n",
        "df = pd.DataFrame.from_records([['.','.','.','.','.','.'],\n",
        "                ['.','0','0','.','.','.'],\n",
        "                ['0','*','0','0','.','.'],\n",
        "                ['0','0','0','0','0','.'],\n",
        "                ['.','0','0','0','0','0'],\n",
        "                ['0','0','0','0','0','.'],\n",
        "                ['0','0','0','0','.','.'],\n",
        "                ['.','0','0','.','.','.'],\n",
        "                ['.','.','.','.','.','.']])\n",
        "print(df)\n",
        "print(\"Above is the original shape before rotation.\")"
      ],
      "execution_count": 0,
      "outputs": []
    },
    {
      "cell_type": "code",
      "metadata": {
        "id": "lRSwHYb2tyy6",
        "colab_type": "code",
        "cellView": "form",
        "outputId": "5a99e8c0-a36b-4f6c-913a-c13a11e53168",
        "colab": {
          "base_uri": "https://localhost:8080/",
          "height": 34
        }
      },
      "source": [
        "# check if input is n times 90 degrees\n",
        "\n",
        "#@title Input a degree\n",
        "YourInput =  90#@param {type:\"integer\"}\n",
        "\n",
        "while True:\n",
        "    try:\n",
        "        if YourInput%90 == 0 and YourInput != 0:\n",
        "            print(f\"{YourInput} is a good number!  Please move to next step to rotate.\")\n",
        "            break\n",
        "        print(\"Oops!  That was not valid degree.  Try again...\")\n",
        "    except ValueError:\n",
        "        print(\"Oops!  That was not valid number.  Try again...\")"
      ],
      "execution_count": 11,
      "outputs": [
        {
          "output_type": "stream",
          "text": [
            "90 is a good number!  Please move to next step to rotate.\n"
          ],
          "name": "stdout"
        }
      ]
    },
    {
      "cell_type": "code",
      "metadata": {
        "id": "DyMo9Arvvlw_",
        "colab_type": "code",
        "outputId": "f96794dd-b2eb-4fa0-933d-18d22bf8a5fd",
        "colab": {
          "base_uri": "https://localhost:8080/",
          "height": 136
        }
      },
      "source": [
        "# assign the original DataFrame as working DataFrame\n",
        "Working_df = df\n",
        "\n",
        "if YourInput >=0:\n",
        "    for n in range(abs(int(YourInput/90))):\n",
        "        # Transpose DataFrame and flip\n",
        "        Working_df = (Working_df.T).iloc[:,::-1]\n",
        "    print(Working_df)\n",
        "\n",
        "else:\n",
        "    for n in range(abs(int(YourInput/90))):\n",
        "        # Transpose DataFrame and flip\n",
        "        Working_df = (Working_df.T).iloc[::-1,:]\n",
        "    print(Working_df)"
      ],
      "execution_count": 12,
      "outputs": [
        {
          "output_type": "stream",
          "text": [
            "   8  7  6  5  4  3  2  1  0\n",
            "0  .  .  0  0  .  0  0  .  .\n",
            "1  .  0  0  0  0  0  *  0  .\n",
            "2  .  0  0  0  0  0  0  0  .\n",
            "3  .  .  0  0  0  0  0  .  .\n",
            "4  .  .  .  0  0  0  .  .  .\n",
            "5  .  .  .  .  0  .  .  .  .\n"
          ],
          "name": "stdout"
        }
      ]
    }
  ]
}