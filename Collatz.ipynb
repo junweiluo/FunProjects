{
  "nbformat": 4,
  "nbformat_minor": 0,
  "metadata": {
    "colab": {
      "name": "Untitled1.ipynb",
      "provenance": [],
      "include_colab_link": true
    },
    "kernelspec": {
      "name": "python3",
      "display_name": "Python 3"
    }
  },
  "cells": [
    {
      "cell_type": "markdown",
      "metadata": {
        "id": "view-in-github",
        "colab_type": "text"
      },
      "source": [
        "<a href=\"https://colab.research.google.com/github/junweiluo/RotateMatrix/blob/master/Collatz.ipynb\" target=\"_parent\"><img src=\"https://colab.research.google.com/assets/colab-badge.svg\" alt=\"Open In Colab\"/></a>"
      ]
    },
    {
      "cell_type": "code",
      "metadata": {
        "id": "5lRLeLvH1kjD",
        "colab_type": "code",
        "colab": {}
      },
      "source": [
        "\"\"\"\n",
        "Author: Junwei Luo\n",
        "Collatz probelm: any positive integer, if is even, then divide by two; if odd, times 3 plus 1.\n",
        "Continue doing last step, eventually any positive integer will get to 1.\n",
        "\"\"\"\n",
        "# define function for collatz\n",
        "def collatz(number):\n",
        "    if number % 2 == 0:\n",
        "        return number // 2\n",
        "    else:\n",
        "        return 3 * number + 1"
      ],
      "execution_count": 0,
      "outputs": []
    },
    {
      "cell_type": "code",
      "metadata": {
        "id": "_Vr-SdvW1r9t",
        "colab_type": "code",
        "colab": {
          "base_uri": "https://localhost:8080/",
          "height": 34
        },
        "outputId": "719049b3-078e-49a4-801b-65ba361c7198"
      },
      "source": [
        "#@title Default title text\n",
        "input1 = 100 #@param {type:\"integer\"}\n",
        "# ask for an positive input; if not a positive input, ask again.\n",
        "while True:\n",
        "#    input1 = input(\"Please input an positive integer: \")\n",
        "    try:\n",
        "        intInput = int(input1)\n",
        "        if intInput > 0:\n",
        "            print(f\"{input1} is a good number.\")\n",
        "            break\n",
        "        else:\n",
        "            print(\"Not an positive integer.  Please input again: \")\n",
        "    except:\n",
        "        print(\"Not an integer.  Please input again: \")"
      ],
      "execution_count": 2,
      "outputs": [
        {
          "output_type": "stream",
          "text": [
            "100 is a good number.\n"
          ],
          "name": "stdout"
        }
      ]
    },
    {
      "cell_type": "code",
      "metadata": {
        "id": "sDqcYVcu1yas",
        "colab_type": "code",
        "colab": {
          "base_uri": "https://localhost:8080/",
          "height": 459
        },
        "outputId": "7870ca35-1ac9-41c9-8535-141a2c1e7505"
      },
      "source": [
        "# print result of collatz transformation and collatz again until 1.\n",
        "while True:\n",
        "    print(intInput)\n",
        "    if collatz(intInput) == 1:\n",
        "        print(collatz(intInput))\n",
        "        break\n",
        "    else:\n",
        "        intInput = collatz(intInput)"
      ],
      "execution_count": 3,
      "outputs": [
        {
          "output_type": "stream",
          "text": [
            "100\n",
            "50\n",
            "25\n",
            "76\n",
            "38\n",
            "19\n",
            "58\n",
            "29\n",
            "88\n",
            "44\n",
            "22\n",
            "11\n",
            "34\n",
            "17\n",
            "52\n",
            "26\n",
            "13\n",
            "40\n",
            "20\n",
            "10\n",
            "5\n",
            "16\n",
            "8\n",
            "4\n",
            "2\n",
            "1\n"
          ],
          "name": "stdout"
        }
      ]
    }
  ]
}