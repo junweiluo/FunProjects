{
  "nbformat": 4,
  "nbformat_minor": 0,
  "metadata": {
    "colab": {
      "name": "Untitled0.ipynb",
      "provenance": [],
      "include_colab_link": true
    },
    "kernelspec": {
      "name": "python3",
      "display_name": "Python 3"
    }
  },
  "cells": [
    {
      "cell_type": "markdown",
      "metadata": {
        "id": "view-in-github",
        "colab_type": "text"
      },
      "source": [
        "<a href=\"https://colab.research.google.com/github/junweiluo/RotateMatrix/blob/master/Untitled0.ipynb\" target=\"_parent\"><img src=\"https://colab.research.google.com/assets/colab-badge.svg\" alt=\"Open In Colab\"/></a>"
      ]
    },
    {
      "cell_type": "code",
      "metadata": {
        "id": "WTMhbAUPtaD9",
        "colab_type": "code",
        "colab": {
          "base_uri": "https://localhost:8080/",
          "height": 204
        },
        "outputId": "e19c5fd3-381a-4bb2-cbd2-e6a9764a9bc5"
      },
      "source": [
        "# Using pandas Transpose function to solve the problem. \n",
        "import pandas as pd\n",
        "\n",
        "# Transform list of list as DataFrame\n",
        "df = pd.DataFrame.from_records([['.','.','.','.','.','.'],\n",
        "                ['.','0','0','.','.','.'],\n",
        "                ['0','*','0','0','.','.'],\n",
        "                ['0','0','0','0','0','.'],\n",
        "                ['.','0','0','0','0','0'],\n",
        "                ['0','0','0','0','0','.'],\n",
        "                ['0','0','0','0','.','.'],\n",
        "                ['.','0','0','.','.','.'],\n",
        "                ['.','.','.','.','.','.']])\n",
        "print(df)\n",
        "print(\"Above is the original shape before rotation.\")"
      ],
      "execution_count": 22,
      "outputs": [
        {
          "output_type": "stream",
          "text": [
            "   0  1  2  3  4  5\n",
            "0  .  .  .  .  .  .\n",
            "1  .  0  0  .  .  .\n",
            "2  0  *  0  0  .  .\n",
            "3  0  0  0  0  0  .\n",
            "4  .  0  0  0  0  0\n",
            "5  0  0  0  0  0  .\n",
            "6  0  0  0  0  .  .\n",
            "7  .  0  0  .  .  .\n",
            "8  .  .  .  .  .  .\n",
            "Above is the original shape before rotation.\n"
          ],
          "name": "stdout"
        }
      ]
    },
    {
      "cell_type": "code",
      "metadata": {
        "id": "lRSwHYb2tyy6",
        "colab_type": "code",
        "colab": {
          "base_uri": "https://localhost:8080/",
          "height": 34
        },
        "cellView": "both",
        "outputId": "be4c4769-df30-483e-ff28-d991c46b9ced"
      },
      "source": [
        "# check if input is n times 90 degrees\n",
        "\n",
        "#@title Default title text\n",
        "YourInput =  360#@param {type:\"integer\"}\n",
        "\n",
        "while True:\n",
        "    try:\n",
        "        if YourInput%90 == 0 and YourInput != 0:\n",
        "            print(f\"{YourInput} is a good number!  Please move to next step to rotate.\")\n",
        "            break\n",
        "        print(\"Oops!  That was not valid degree.  Try again...\")\n",
        "    except ValueError:\n",
        "        print(\"Oops!  That was not valid number.  Try again...\")"
      ],
      "execution_count": 24,
      "outputs": [
        {
          "output_type": "stream",
          "text": [
            "360 is a good number!  Please move to next step to rotate.\n"
          ],
          "name": "stdout"
        }
      ]
    },
    {
      "cell_type": "code",
      "metadata": {
        "id": "DyMo9Arvvlw_",
        "colab_type": "code",
        "colab": {
          "base_uri": "https://localhost:8080/",
          "height": 187
        },
        "outputId": "81c86a64-ffd1-4597-a5c7-373264775a4e"
      },
      "source": [
        "# assign the original DataFrame as working DataFrame\n",
        "Working_df = df\n",
        "\n",
        "if YourInput >=0:\n",
        "    for n in range(abs(int(YourInput/90))):\n",
        "        # Transpose DataFrame and flip\n",
        "        Working_df = (Working_df.T).iloc[:,::-1]\n",
        "    print(Working_df)\n",
        "\n",
        "else:\n",
        "    for n in range(abs(int(YourInput/90))):\n",
        "        # Transpose DataFrame and flip\n",
        "        Working_df = (Working_df.T).iloc[::-1,:]\n",
        "    print(Working_df)"
      ],
      "execution_count": 25,
      "outputs": [
        {
          "output_type": "stream",
          "text": [
            "   0  1  2  3  4  5\n",
            "0  .  .  .  .  .  .\n",
            "1  .  0  0  .  .  .\n",
            "2  0  *  0  0  .  .\n",
            "3  0  0  0  0  0  .\n",
            "4  .  0  0  0  0  0\n",
            "5  0  0  0  0  0  .\n",
            "6  0  0  0  0  .  .\n",
            "7  .  0  0  .  .  .\n",
            "8  .  .  .  .  .  .\n"
          ],
          "name": "stdout"
        }
      ]
    }
  ]
}